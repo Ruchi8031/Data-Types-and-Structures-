{
  "nbformat": 4,
  "nbformat_minor": 0,
  "metadata": {
    "colab": {
      "provenance": []
    },
    "kernelspec": {
      "name": "python3",
      "display_name": "Python 3"
    },
    "language_info": {
      "name": "python"
    }
  },
  "cells": [
    {
      "cell_type": "markdown",
      "source": [
        "Oops theory Questions:-"
      ],
      "metadata": {
        "id": "t10HB1N_IimY"
      }
    },
    {
      "cell_type": "markdown",
      "source": [
        "1. What are data structures, and why are they important?\n",
        "\n",
        "  - Data structures are ways to organize and store data for efficient access and modification.They are important because the right structure improves performance and reduces memory usage."
      ],
      "metadata": {
        "id": "wMCIsKbpIokE"
      }
    },
    {
      "cell_type": "markdown",
      "source": [
        "2. Explain the difference between mutable and immutable data types with examples.\n",
        "\n",
        "  - Mutable: Can be changed after creation (e.g., lists, dictionaries).\n",
        "  - Immutable: Cannot be changed after creation (e.g., strings, tuples)."
      ],
      "metadata": {
        "id": "HLcur5xuJHST"
      }
    },
    {
      "cell_type": "markdown",
      "source": [
        "3. What are the main differences between lists and tuples in Python?\n",
        "\n",
        "  - Lists are mutable and use [].\n",
        "  - Tuples are immutable and use ()."
      ],
      "metadata": {
        "id": "1lZka4msJI42"
      }
    },
    {
      "cell_type": "markdown",
      "source": [
        "4. Describe how dictionaries store data.\n",
        "\n",
        "  - Dictionaries store data as key-value pairs using a hash table for fast lookups."
      ],
      "metadata": {
        "id": "bHz9YGolJI2k"
      }
    },
    {
      "cell_type": "markdown",
      "source": [
        "5. Why might you use a set instead of a list in Python?\n",
        "\n",
        "  - Sets automatically remove duplicates and allow fast membership tests."
      ],
      "metadata": {
        "id": "_FG_3rJMJIeT"
      }
    },
    {
      "cell_type": "markdown",
      "source": [
        "6. What is a string in Python, and how is it different from a list?\n",
        "\n",
        "- A string is an immutable sequence of characters.Unlike lists, strings cannot be changed after creation."
      ],
      "metadata": {
        "id": "1eAx_C_nJIgk"
      }
    },
    {
      "cell_type": "markdown",
      "source": [
        "7. How do tuples ensure data integrity in Python?\n",
        "\n",
        "  - Tuples are immutable, so their data cannot be accidentally modified, ensuring integrity."
      ],
      "metadata": {
        "id": "Si29xAdlJIX_"
      }
    },
    {
      "cell_type": "markdown",
      "source": [
        "8. What is a hash table, and how does it relate to dictionaries in Python?\n",
        "\n",
        "  - A hash table stores key-value pairs for fast lookup.\n",
        "\n",
        "  - Python dictionaries are implemented using hash tables."
      ],
      "metadata": {
        "id": "7rW5TzjQJIVu"
      }
    },
    {
      "cell_type": "markdown",
      "source": [
        "9. Can lists contain different data types in Python?\n",
        "\n",
        "  - Yes, a single list can hold integers, strings, objects, or other lists."
      ],
      "metadata": {
        "id": "wJe_hy0QJIQr"
      }
    },
    {
      "cell_type": "markdown",
      "source": [
        "10. Explain why strings are immutable in Python.\n",
        "\n",
        "  - Immutability allows strings to be safely shared and used as dictionary keys.Means their content cannot be changed after creation. Any operation that appears to modify a string, like str.replace(), actually creates and returns a new string object with the updated content. This immutability makes strings predictable, thread-safe, and allows them to be used as dictionary keys."
      ],
      "metadata": {
        "id": "kkeYbytdJITQ"
      }
    },
    {
      "cell_type": "markdown",
      "source": [
        "11. What advantages do dictionaries offer over lists for certain tasks?\n",
        "\n",
        "  - Dictionaries provide fast key-based access and avoid searching through all elements."
      ],
      "metadata": {
        "id": "5v4Jkut2JINf"
      }
    },
    {
      "cell_type": "markdown",
      "source": [
        "12. Describe a scenario where using a tuple would be preferable over a list.\n",
        "\n",
        "  - Tuples are preferable for fixed data, like coordinates (x, y), or dictionary keys."
      ],
      "metadata": {
        "id": "bPvpDlE1JIJf"
      }
    },
    {
      "cell_type": "markdown",
      "source": [
        "13. How do sets handle duplicate values in Python?\n",
        "  - Sets are designed to handle duplicate values by automatically removing them. When you create a set from an iterable that contains duplicates, or if you try to add a duplicate value to an existing set, it simply gets ignored. The set will only store one copy of each unique element. This makes sets highly efficient for tasks that involve finding unique items in a collection."
      ],
      "metadata": {
        "id": "nDpg5XwXJILe"
      }
    },
    {
      "cell_type": "markdown",
      "source": [
        "14. How does the in keyword work differently for lists and dictionaries?\n",
        "\n",
        "  - For lists, in checks values.\n",
        "\n",
        "  - For dictionaries, in checks keys only."
      ],
      "metadata": {
        "id": "JaeH191EJIHk"
      }
    },
    {
      "cell_type": "markdown",
      "source": [
        "15. Can you modify the elements of a tuple? Explain why or why not.\n",
        "\n",
        "  - No, tuples are immutable, so elements cannot be changed after creation."
      ],
      "metadata": {
        "id": "m6RCqF2sJIDH"
      }
    },
    {
      "cell_type": "markdown",
      "source": [
        "16. What is a nested dictionary, and give an example of its use case.\n",
        "\n",
        "  - A nested dictionary has dictionaries as values inside another dictionary. Example: storing student info { \"Alice\": {\"age\":20, \"grade\":\"A\"} }."
      ],
      "metadata": {
        "id": "y6CRgSHiJH6G"
      }
    },
    {
      "cell_type": "markdown",
      "source": [
        "17. Describe the time complexity of accessing elements in a dictionary.\n",
        "\n",
        "  - Accessing elements by key is O(1) on average due to hash table implementation."
      ],
      "metadata": {
        "id": "dv4Z5F6OJHmj"
      }
    },
    {
      "cell_type": "markdown",
      "source": [
        "18. In what situations are lists preferred over dictionaries?\n",
        "\n",
        "  - Lists are preferred when order matters or when you need indexed access to elements."
      ],
      "metadata": {
        "id": "X21Qj8r7JHkO"
      }
    },
    {
      "cell_type": "markdown",
      "source": [
        "19. Why are dictionaries considered unordered, and how does that affect data retrieval?\n",
        "\n",
        "  - Dictionaries do not maintain insertion order (before Python 3.7).\n",
        "  - Retrieval by key is fast, but you cannot rely on order in older Python versions."
      ],
      "metadata": {
        "id": "Jvd87MmhJIaK"
      }
    },
    {
      "cell_type": "markdown",
      "source": [
        "20. Explain the difference between a list and a dictionary in terms of data retrieval.\n",
        "\n",
        "  - Lists require sequential search (O(n)), while dictionaries retrieve values by key in O(1) average time."
      ],
      "metadata": {
        "id": "CngJLXchJIcA"
      }
    },
    {
      "cell_type": "markdown",
      "source": [
        "Data Structure practical questions:-"
      ],
      "metadata": {
        "id": "yczS-9uQJHdT"
      }
    },
    {
      "cell_type": "code",
      "source": [
        "#Write a code to create a string with your name and print it.\n",
        "\n",
        "name = \"Ruchi\"\n",
        "print(name)"
      ],
      "metadata": {
        "colab": {
          "base_uri": "https://localhost:8080/"
        },
        "id": "tyhCGF0tMkGb",
        "outputId": "21d2339e-5018-41fa-b692-7bca4b53ff39"
      },
      "execution_count": 1,
      "outputs": [
        {
          "output_type": "stream",
          "name": "stdout",
          "text": [
            "Ruchi\n"
          ]
        }
      ]
    },
    {
      "cell_type": "code",
      "source": [
        "#Write a code to find the length of the string \"Hello World\".\n",
        "\n",
        "s = \"Hello World\"\n",
        "print(len(s))"
      ],
      "metadata": {
        "colab": {
          "base_uri": "https://localhost:8080/"
        },
        "id": "K8d4-mJ8MlLe",
        "outputId": "4d75be36-c596-463a-8327-3145940a2fa5"
      },
      "execution_count": 2,
      "outputs": [
        {
          "output_type": "stream",
          "name": "stdout",
          "text": [
            "11\n"
          ]
        }
      ]
    },
    {
      "cell_type": "code",
      "source": [
        "#Write a code to slice the first 3 characters from the string \"Python Programming\".\n",
        "\n",
        "s = \"Python Programming\"\n",
        "print(s[:3])"
      ],
      "metadata": {
        "colab": {
          "base_uri": "https://localhost:8080/"
        },
        "id": "DnesIX9vMvqp",
        "outputId": "acad9097-26bf-482f-8b2f-c696bac6e1fd"
      },
      "execution_count": 3,
      "outputs": [
        {
          "output_type": "stream",
          "name": "stdout",
          "text": [
            "Pyt\n"
          ]
        }
      ]
    },
    {
      "cell_type": "code",
      "source": [
        "#Write a code to convert the string \"hello\" to uppercase.\n",
        "\n",
        "s = \"hello\"\n",
        "print(s.upper())"
      ],
      "metadata": {
        "colab": {
          "base_uri": "https://localhost:8080/"
        },
        "id": "WvNVAK3MM3et",
        "outputId": "9414c6f5-1c86-4d78-c17f-7385b7e1ec3e"
      },
      "execution_count": 4,
      "outputs": [
        {
          "output_type": "stream",
          "name": "stdout",
          "text": [
            "HELLO\n"
          ]
        }
      ]
    },
    {
      "cell_type": "code",
      "source": [
        "#Write a code to replace the word \"apple\" with \"orange\" in the string \"I like apple\".\n",
        "\n",
        "s = \"I like apple\"\n",
        "print(s.replace(\"apple\", \"orange\"))"
      ],
      "metadata": {
        "colab": {
          "base_uri": "https://localhost:8080/"
        },
        "id": "uRssvJ_oM3cA",
        "outputId": "b2ad2aea-3854-4756-ed25-d394cdbe756d"
      },
      "execution_count": 5,
      "outputs": [
        {
          "output_type": "stream",
          "name": "stdout",
          "text": [
            "I like orange\n"
          ]
        }
      ]
    },
    {
      "cell_type": "code",
      "source": [
        "#Write a code to create a list with numbers 1 to 5 and print it.\n",
        "\n",
        "lst = [1, 2, 3, 4, 5]\n",
        "print(lst)"
      ],
      "metadata": {
        "colab": {
          "base_uri": "https://localhost:8080/"
        },
        "id": "MSbE9wprM3Pi",
        "outputId": "19726603-49ab-4f73-c83d-f20395a280a7"
      },
      "execution_count": 6,
      "outputs": [
        {
          "output_type": "stream",
          "name": "stdout",
          "text": [
            "[1, 2, 3, 4, 5]\n"
          ]
        }
      ]
    },
    {
      "cell_type": "code",
      "source": [
        "#Write a code to append the number 10 to the list [1, 2, 3, 4].\n",
        "\n",
        "lst = [1, 2, 3, 4]\n",
        "lst.append(10)\n",
        "print(lst)"
      ],
      "metadata": {
        "colab": {
          "base_uri": "https://localhost:8080/"
        },
        "id": "4a4T4K8VNQZ6",
        "outputId": "7910eb0c-3973-4f0f-dc76-44647322b4c9"
      },
      "execution_count": 7,
      "outputs": [
        {
          "output_type": "stream",
          "name": "stdout",
          "text": [
            "[1, 2, 3, 4, 10]\n"
          ]
        }
      ]
    },
    {
      "cell_type": "code",
      "source": [
        "#Write a code to remove the number 3 from the list [1, 2, 3, 4, 5].\n",
        "\n",
        "lst = [1, 2, 3, 4, 5]\n",
        "lst.remove(3)\n",
        "print(lst)"
      ],
      "metadata": {
        "colab": {
          "base_uri": "https://localhost:8080/"
        },
        "id": "jfD2YQvENK_f",
        "outputId": "62e41f5e-4686-4c1d-e517-b67f5365c989"
      },
      "execution_count": 8,
      "outputs": [
        {
          "output_type": "stream",
          "name": "stdout",
          "text": [
            "[1, 2, 4, 5]\n"
          ]
        }
      ]
    },
    {
      "cell_type": "code",
      "source": [
        "#Write a code to access the second element in the list ['a', 'b', 'c', 'd'].\n",
        "\n",
        "lst = ['a', 'b', 'c', 'd']\n",
        "print(lst[1])"
      ],
      "metadata": {
        "colab": {
          "base_uri": "https://localhost:8080/"
        },
        "id": "0FYwM_m_NFB4",
        "outputId": "76376b04-738d-468c-d9c4-b4e11f9e1947"
      },
      "execution_count": 9,
      "outputs": [
        {
          "output_type": "stream",
          "name": "stdout",
          "text": [
            "b\n"
          ]
        }
      ]
    },
    {
      "cell_type": "code",
      "source": [
        "#Write a code to reverse the list [10, 20, 30, 40, 50].\n",
        "\n",
        "lst = [10, 20, 30, 40, 50]\n",
        "lst.reverse()\n",
        "print(lst)"
      ],
      "metadata": {
        "colab": {
          "base_uri": "https://localhost:8080/"
        },
        "id": "nLyhCX8vM0Fp",
        "outputId": "2fba58f6-7e7f-493b-b705-589c5cead97b"
      },
      "execution_count": 10,
      "outputs": [
        {
          "output_type": "stream",
          "name": "stdout",
          "text": [
            "[50, 40, 30, 20, 10]\n"
          ]
        }
      ]
    }
  ]
}